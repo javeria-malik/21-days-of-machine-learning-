{
 "cells": [
  {
   "cell_type": "code",
   "execution_count": 1,
   "id": "81387654",
   "metadata": {},
   "outputs": [],
   "source": [
    "import numpy as np"
   ]
  },
  {
   "cell_type": "code",
   "execution_count": 3,
   "id": "97387ce6",
   "metadata": {},
   "outputs": [],
   "source": [
    "matrix=np.array([[10,6,8,9],[11,8,9,0]])"
   ]
  },
  {
   "cell_type": "code",
   "execution_count": 4,
   "id": "403e5aef",
   "metadata": {},
   "outputs": [
    {
     "data": {
      "text/plain": [
       "array([[10,  6,  8,  9],\n",
       "       [11,  8,  9,  0]])"
      ]
     },
     "execution_count": 4,
     "metadata": {},
     "output_type": "execute_result"
    }
   ],
   "source": [
    "matrix"
   ]
  },
  {
   "cell_type": "code",
   "execution_count": 5,
   "id": "e581f59b",
   "metadata": {},
   "outputs": [
    {
     "name": "stdout",
     "output_type": "stream",
     "text": [
      "[6 0]\n"
     ]
    }
   ],
   "source": [
    "print(np.min(matrix,axis=1)) # and will tell in row "
   ]
  },
  {
   "cell_type": "code",
   "execution_count": 6,
   "id": "8596fdf7",
   "metadata": {},
   "outputs": [
    {
     "name": "stdout",
     "output_type": "stream",
     "text": [
      "[10  6  8  0]\n"
     ]
    }
   ],
   "source": [
    "print(np.min(matrix,axis=0))# will tell in column"
   ]
  },
  {
   "cell_type": "code",
   "execution_count": 7,
   "id": "15d19ff5",
   "metadata": {},
   "outputs": [
    {
     "name": "stdout",
     "output_type": "stream",
     "text": [
      "7.625\n"
     ]
    }
   ],
   "source": [
    "print(np.mean(matrix))"
   ]
  },
  {
   "cell_type": "code",
   "execution_count": 8,
   "id": "ed28af4e",
   "metadata": {},
   "outputs": [],
   "source": [
    "mean_along_rows = np.mean(matrix, axis=1)"
   ]
  },
  {
   "cell_type": "code",
   "execution_count": 9,
   "id": "80762b7f",
   "metadata": {},
   "outputs": [
    {
     "name": "stdout",
     "output_type": "stream",
     "text": [
      "[8.25 7.  ]\n"
     ]
    }
   ],
   "source": [
    "print(mean_along_rows)"
   ]
  },
  {
   "cell_type": "code",
   "execution_count": 10,
   "id": "0e4d865a",
   "metadata": {},
   "outputs": [
    {
     "name": "stdout",
     "output_type": "stream",
     "text": [
      "Mean along the columns: [10.5  7.   8.5  4.5]\n"
     ]
    }
   ],
   "source": [
    "mean_along_columns = np.mean(matrix, axis=0)\n",
    "print(\"Mean along the columns:\", mean_along_columns)"
   ]
  },
  {
   "cell_type": "code",
   "execution_count": null,
   "id": "a9693000",
   "metadata": {},
   "outputs": [],
   "source": []
  }
 ],
 "metadata": {
  "kernelspec": {
   "display_name": "Python 3 (ipykernel)",
   "language": "python",
   "name": "python3"
  },
  "language_info": {
   "codemirror_mode": {
    "name": "ipython",
    "version": 3
   },
   "file_extension": ".py",
   "mimetype": "text/x-python",
   "name": "python",
   "nbconvert_exporter": "python",
   "pygments_lexer": "ipython3",
   "version": "3.11.4"
  }
 },
 "nbformat": 4,
 "nbformat_minor": 5
}
